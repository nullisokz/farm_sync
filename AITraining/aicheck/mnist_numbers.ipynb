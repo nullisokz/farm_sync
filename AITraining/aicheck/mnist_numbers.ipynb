{
 "cells": [
  {
   "cell_type": "code",
   "execution_count": 45,
   "id": "40cdb356",
   "metadata": {},
   "outputs": [],
   "source": [
    "from sklearn.datasets import fetch_openml\n",
    "from sklearn.model_selection import train_test_split\n",
    "from sklearn.preprocessing import StandardScaler\n",
    "from sklearn.linear_model import LogisticRegression\n",
    "from sklearn.ensemble import RandomForestClassifier, ExtraTreesClassifier\n",
    "from sklearn.metrics import f1_score, classification_report\n",
    "from sklearn.model_selection import GridSearchCV\n",
    "import numpy as np\n",
    "import joblib, os"
   ]
  },
  {
   "cell_type": "code",
   "execution_count": 46,
   "id": "983f1433",
   "metadata": {},
   "outputs": [
    {
     "name": "stdout",
     "output_type": "stream",
     "text": [
      "Data shape: (10000, 784) Labels shape: (10000,)\n"
     ]
    }
   ],
   "source": [
    "#Data\n",
    "mnist = fetch_openml(\"mnist_784\", version=1, cache=True, as_frame=False)\n",
    "X = mnist[\"data\"][:10000]\n",
    "y = mnist[\"target\"][:10000].astype(np.uint8)\n",
    "\n",
    "print(\"Data shape:\", X.shape, \"Labels shape:\", y.shape)\n",
    "\n",
    "X_train_val, X_test, y_train_val, y_test = train_test_split(\n",
    "    X, y, test_size=2000, random_state=42, stratify=y\n",
    ")\n",
    "X_train, X_val, y_train, y_val = train_test_split(\n",
    "    X_train_val, y_train_val, test_size=2000, random_state=42, stratify=y_train_val\n",
    ")\n",
    "\n",
    "scaler = StandardScaler()\n",
    "X_s = scaler.fit_transform(X)\n",
    "X_train_s = scaler.fit_transform(X_train)\n",
    "X_val_s = scaler.transform(X_val)\n",
    "X_test_s = scaler.transform(X_test)"
   ]
  },
  {
   "cell_type": "code",
   "execution_count": 47,
   "id": "11359015",
   "metadata": {},
   "outputs": [
    {
     "name": "stdout",
     "output_type": "stream",
     "text": [
      "Grid search på extratrees…\n",
      "Fitting 3 folds for each of 27 candidates, totalling 81 fits\n",
      "Best extratrees: {'max_depth': None, 'max_features': 'sqrt', 'n_estimators': 400} (F1= 0.9488)\n",
      "Grid search på randomforest…\n",
      "Fitting 3 folds for each of 27 candidates, totalling 81 fits\n",
      "Best randomforest: {'max_depth': None, 'max_features': 'sqrt', 'n_estimators': 500} (F1= 0.9470)\n"
     ]
    }
   ],
   "source": [
    "#Models\n",
    "models = {\n",
    "    \"extratrees\": ExtraTreesClassifier(\n",
    "        n_estimators=200,\n",
    "        max_depth=None,\n",
    "        n_jobs=-1,\n",
    "        random_state=42\n",
    "    ),\n",
    "    \"randomforest\": RandomForestClassifier(\n",
    "        n_estimators=300,\n",
    "        max_depth=None,\n",
    "        n_jobs=-1,\n",
    "        random_state=42\n",
    "    ),\n",
    "}\n",
    "#GridSearch\n",
    "param_grid = {\n",
    "    \"extratrees\": {\n",
    "        \"n_estimators\": [100, 200, 400],\n",
    "        \"max_depth\": [None, 20, 40],\n",
    "        \"max_features\": [\"sqrt\", \"log2\", None]\n",
    "    },\n",
    "    \"randomforest\": {\n",
    "        \"n_estimators\": [100, 300, 500],\n",
    "        \"max_depth\": [None, 20, 40],\n",
    "        \"max_features\": [\"sqrt\", \"log2\", None]\n",
    "    }\n",
    "}\n",
    "\n",
    "#Train - Val\n",
    "best_models = {}\n",
    "val_scores = {}\n",
    "\n",
    "for name, model in models.items():\n",
    "    print(f\"Grid search på {name}…\")\n",
    "    grid = GridSearchCV(\n",
    "        model,\n",
    "        param_grid[name],\n",
    "        scoring=\"f1_macro\",\n",
    "        cv=3,   \n",
    "        n_jobs=-1,\n",
    "        verbose=1\n",
    "    )\n",
    "    grid.fit(X_train_s, y_train)\n",
    "    best_models[name] = grid.best_estimator_\n",
    "\n",
    "    val_preds = grid.best_estimator_.predict(X_val_s)\n",
    "    val_f1 = f1_score(y_val, val_preds, average=\"macro\")\n",
    "    val_scores[name] = val_f1\n",
    "\n",
    "    print(f\"Best {name}: {grid.best_params_} (F1= {val_f1:.4f})\")"
   ]
  },
  {
   "cell_type": "code",
   "execution_count": 48,
   "id": "3b32ccd9",
   "metadata": {},
   "outputs": [
    {
     "name": "stdout",
     "output_type": "stream",
     "text": [
      "\n",
      "Best Model: extratrees\n"
     ]
    }
   ],
   "source": [
    "#Val\n",
    "best_name = max(val_scores, key=val_scores.get)\n",
    "best_model = best_models[best_name]\n",
    "\n",
    "print(f\"\\nBest Model: {best_name}\")"
   ]
  },
  {
   "cell_type": "code",
   "execution_count": 49,
   "id": "db90cb48",
   "metadata": {},
   "outputs": [
    {
     "name": "stdout",
     "output_type": "stream",
     "text": [
      "\n",
      "Classification report:\n",
      "              precision    recall  f1-score   support\n",
      "\n",
      "           0       0.96      0.99      0.98       200\n",
      "           1       0.97      0.98      0.98       225\n",
      "           2       0.93      0.92      0.93       198\n",
      "           3       0.95      0.90      0.92       206\n",
      "           4       0.98      0.93      0.95       196\n",
      "           5       0.95      0.95      0.95       173\n",
      "           6       0.95      0.99      0.97       203\n",
      "           7       0.95      0.97      0.96       214\n",
      "           8       0.95      0.93      0.94       189\n",
      "           9       0.90      0.92      0.91       196\n",
      "\n",
      "    accuracy                           0.95      2000\n",
      "   macro avg       0.95      0.95      0.95      2000\n",
      "weighted avg       0.95      0.95      0.95      2000\n",
      "\n"
     ]
    }
   ],
   "source": [
    "#Test\n",
    "test_preds = best_model.predict(X_test_s)\n",
    "\n",
    "print(\"\\nClassification report:\")\n",
    "print(classification_report(y_test, test_preds))"
   ]
  },
  {
   "cell_type": "code",
   "execution_count": 50,
   "id": "0a133227",
   "metadata": {},
   "outputs": [
    {
     "name": "stdout",
     "output_type": "stream",
     "text": [
      "Model Saved as: models/mnist_extratrees.joblib\n"
     ]
    }
   ],
   "source": [
    "#Save\n",
    "best_model.fit(X_s,y)\n",
    "os.makedirs(\"models\", exist_ok=True)\n",
    "model_path = f\"models/mnist_{best_name}.joblib\"\n",
    "\n",
    "joblib.dump(best_model, model_path)\n",
    "joblib.dump(scaler, \"models/mnist_scaler.joblib\")\n",
    "\n",
    "print(f\"Model Saved as: {model_path}\")"
   ]
  }
 ],
 "metadata": {
  "kernelspec": {
   "display_name": "base",
   "language": "python",
   "name": "python3"
  },
  "language_info": {
   "codemirror_mode": {
    "name": "ipython",
    "version": 3
   },
   "file_extension": ".py",
   "mimetype": "text/x-python",
   "name": "python",
   "nbconvert_exporter": "python",
   "pygments_lexer": "ipython3",
   "version": "3.12.7"
  }
 },
 "nbformat": 4,
 "nbformat_minor": 5
}
